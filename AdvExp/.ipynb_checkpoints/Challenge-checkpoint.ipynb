{
 "cells": [
  {
   "cell_type": "markdown",
   "metadata": {},
   "source": [
    "### Challenge: What to use\n",
    "Using selected questions from the 2012 and 2014 editions of the European Social Survey, address the following questions. Keep track of your code and results in a Jupyter notebook or other source that you can share with your mentor. For each question, explain why you chose the approach you did.\n",
    "\n",
    "Here is the data file: <https://raw.githubusercontent.com/Thinkful-Ed/data-201-resources/master/ESS_practice_data/ESSdata_Thinkful.csv>. And here is the codebook: <https://thinkful-ed.github.io/data-201-resources/ESS_practice_data/ESS_codebook.html>, with information about the variable coding and content.\n",
    "\n",
    "In this dataset, the same participants answered questions in 2012 and again 2014.\n",
    "\n",
    "- Did people become less trusting from 2012 to 2014? Compute results for each country in the sample.\n",
    "- Did people become happier from 2012 to 2014? Compute results for each country in the sample.\n",
    "- Who reported watching more TV in 2012, men or women?\n",
    "- Who was more likely to believe people were fair in 2012, people living with a partner or people living alone?\n",
    "- Pick three or four of the countries in the sample and compare how often people met socially in 2014. Are there differences, and if so, which countries stand out?\n",
    "- Pick three or four of the countries in the sample and compare how often people took part in social activities, relative to others their age, in 2014. Are there differences, and if so, which countries stand out?"
   ]
  },
  {
   "cell_type": "code",
   "execution_count": 11,
   "metadata": {},
   "outputs": [],
   "source": [
    "import pandas as pd\n",
    "import numpy as np\n",
    "#import matplotlib as plt\n",
    "import matplotlib.pyplot as plt\n",
    "import scipy.stats as stats\n",
    "from statsmodels.stats.multicomp import pairwise_tukeyhsd\n",
    "from scipy.stats import ttest_ind, kruskal, wilcoxon, f_oneway\n",
    "%matplotlib inline"
   ]
  },
  {
   "cell_type": "code",
   "execution_count": 24,
   "metadata": {},
   "outputs": [],
   "source": [
    "# Import data and sort by deadline date\n",
    "path = \"https://raw.githubusercontent.com/Thinkful-Ed/data-201-resources/master/ESS_practice_data/ESSdata_Thinkful.csv\"\n",
    "ess = pd.read_csv(path)"
   ]
  },
  {
   "cell_type": "code",
   "execution_count": 25,
   "metadata": {},
   "outputs": [
    {
     "data": {
      "text/html": [
       "<div>\n",
       "<style scoped>\n",
       "    .dataframe tbody tr th:only-of-type {\n",
       "        vertical-align: middle;\n",
       "    }\n",
       "\n",
       "    .dataframe tbody tr th {\n",
       "        vertical-align: top;\n",
       "    }\n",
       "\n",
       "    .dataframe thead th {\n",
       "        text-align: right;\n",
       "    }\n",
       "</style>\n",
       "<table border=\"1\" class=\"dataframe\">\n",
       "  <thead>\n",
       "    <tr style=\"text-align: right;\">\n",
       "      <th></th>\n",
       "      <th>cntry</th>\n",
       "      <th>idno</th>\n",
       "      <th>year</th>\n",
       "      <th>tvtot</th>\n",
       "      <th>ppltrst</th>\n",
       "      <th>pplfair</th>\n",
       "      <th>pplhlp</th>\n",
       "      <th>happy</th>\n",
       "      <th>sclmeet</th>\n",
       "      <th>sclact</th>\n",
       "      <th>gndr</th>\n",
       "      <th>agea</th>\n",
       "      <th>partner</th>\n",
       "    </tr>\n",
       "  </thead>\n",
       "  <tbody>\n",
       "    <tr>\n",
       "      <th>0</th>\n",
       "      <td>CH</td>\n",
       "      <td>5.0</td>\n",
       "      <td>6</td>\n",
       "      <td>3.0</td>\n",
       "      <td>3.0</td>\n",
       "      <td>10.0</td>\n",
       "      <td>5.0</td>\n",
       "      <td>8.0</td>\n",
       "      <td>5.0</td>\n",
       "      <td>4.0</td>\n",
       "      <td>2.0</td>\n",
       "      <td>60.0</td>\n",
       "      <td>1.0</td>\n",
       "    </tr>\n",
       "    <tr>\n",
       "      <th>1</th>\n",
       "      <td>CH</td>\n",
       "      <td>25.0</td>\n",
       "      <td>6</td>\n",
       "      <td>6.0</td>\n",
       "      <td>5.0</td>\n",
       "      <td>7.0</td>\n",
       "      <td>5.0</td>\n",
       "      <td>9.0</td>\n",
       "      <td>3.0</td>\n",
       "      <td>2.0</td>\n",
       "      <td>2.0</td>\n",
       "      <td>59.0</td>\n",
       "      <td>1.0</td>\n",
       "    </tr>\n",
       "    <tr>\n",
       "      <th>2</th>\n",
       "      <td>CH</td>\n",
       "      <td>26.0</td>\n",
       "      <td>6</td>\n",
       "      <td>1.0</td>\n",
       "      <td>8.0</td>\n",
       "      <td>8.0</td>\n",
       "      <td>8.0</td>\n",
       "      <td>7.0</td>\n",
       "      <td>6.0</td>\n",
       "      <td>3.0</td>\n",
       "      <td>1.0</td>\n",
       "      <td>24.0</td>\n",
       "      <td>2.0</td>\n",
       "    </tr>\n",
       "    <tr>\n",
       "      <th>3</th>\n",
       "      <td>CH</td>\n",
       "      <td>28.0</td>\n",
       "      <td>6</td>\n",
       "      <td>4.0</td>\n",
       "      <td>6.0</td>\n",
       "      <td>6.0</td>\n",
       "      <td>7.0</td>\n",
       "      <td>10.0</td>\n",
       "      <td>6.0</td>\n",
       "      <td>2.0</td>\n",
       "      <td>2.0</td>\n",
       "      <td>64.0</td>\n",
       "      <td>1.0</td>\n",
       "    </tr>\n",
       "    <tr>\n",
       "      <th>4</th>\n",
       "      <td>CH</td>\n",
       "      <td>29.0</td>\n",
       "      <td>6</td>\n",
       "      <td>5.0</td>\n",
       "      <td>6.0</td>\n",
       "      <td>7.0</td>\n",
       "      <td>5.0</td>\n",
       "      <td>8.0</td>\n",
       "      <td>7.0</td>\n",
       "      <td>2.0</td>\n",
       "      <td>2.0</td>\n",
       "      <td>55.0</td>\n",
       "      <td>1.0</td>\n",
       "    </tr>\n",
       "    <tr>\n",
       "      <th>...</th>\n",
       "      <td>...</td>\n",
       "      <td>...</td>\n",
       "      <td>...</td>\n",
       "      <td>...</td>\n",
       "      <td>...</td>\n",
       "      <td>...</td>\n",
       "      <td>...</td>\n",
       "      <td>...</td>\n",
       "      <td>...</td>\n",
       "      <td>...</td>\n",
       "      <td>...</td>\n",
       "      <td>...</td>\n",
       "      <td>...</td>\n",
       "    </tr>\n",
       "    <tr>\n",
       "      <th>8589</th>\n",
       "      <td>SE</td>\n",
       "      <td>3729.0</td>\n",
       "      <td>7</td>\n",
       "      <td>3.0</td>\n",
       "      <td>4.0</td>\n",
       "      <td>5.0</td>\n",
       "      <td>3.0</td>\n",
       "      <td>6.0</td>\n",
       "      <td>6.0</td>\n",
       "      <td>2.0</td>\n",
       "      <td>1.0</td>\n",
       "      <td>18.0</td>\n",
       "      <td>2.0</td>\n",
       "    </tr>\n",
       "    <tr>\n",
       "      <th>8590</th>\n",
       "      <td>SE</td>\n",
       "      <td>3732.0</td>\n",
       "      <td>7</td>\n",
       "      <td>5.0</td>\n",
       "      <td>6.0</td>\n",
       "      <td>4.0</td>\n",
       "      <td>4.0</td>\n",
       "      <td>10.0</td>\n",
       "      <td>6.0</td>\n",
       "      <td>3.0</td>\n",
       "      <td>1.0</td>\n",
       "      <td>15.0</td>\n",
       "      <td>2.0</td>\n",
       "    </tr>\n",
       "    <tr>\n",
       "      <th>8591</th>\n",
       "      <td>SE</td>\n",
       "      <td>3743.0</td>\n",
       "      <td>7</td>\n",
       "      <td>4.0</td>\n",
       "      <td>5.0</td>\n",
       "      <td>7.0</td>\n",
       "      <td>6.0</td>\n",
       "      <td>8.0</td>\n",
       "      <td>6.0</td>\n",
       "      <td>3.0</td>\n",
       "      <td>1.0</td>\n",
       "      <td>44.0</td>\n",
       "      <td>2.0</td>\n",
       "    </tr>\n",
       "    <tr>\n",
       "      <th>8592</th>\n",
       "      <td>SE</td>\n",
       "      <td>3744.0</td>\n",
       "      <td>7</td>\n",
       "      <td>5.0</td>\n",
       "      <td>8.0</td>\n",
       "      <td>8.0</td>\n",
       "      <td>6.0</td>\n",
       "      <td>9.0</td>\n",
       "      <td>7.0</td>\n",
       "      <td>3.0</td>\n",
       "      <td>1.0</td>\n",
       "      <td>15.0</td>\n",
       "      <td>2.0</td>\n",
       "    </tr>\n",
       "    <tr>\n",
       "      <th>8593</th>\n",
       "      <td>SE</td>\n",
       "      <td>3746.0</td>\n",
       "      <td>7</td>\n",
       "      <td>2.0</td>\n",
       "      <td>6.0</td>\n",
       "      <td>7.0</td>\n",
       "      <td>5.0</td>\n",
       "      <td>7.0</td>\n",
       "      <td>7.0</td>\n",
       "      <td>4.0</td>\n",
       "      <td>2.0</td>\n",
       "      <td>15.0</td>\n",
       "      <td>2.0</td>\n",
       "    </tr>\n",
       "  </tbody>\n",
       "</table>\n",
       "<p>8594 rows × 13 columns</p>\n",
       "</div>"
      ],
      "text/plain": [
       "     cntry    idno  year  tvtot  ppltrst  pplfair  pplhlp  happy  sclmeet  \\\n",
       "0       CH     5.0     6    3.0      3.0     10.0     5.0    8.0      5.0   \n",
       "1       CH    25.0     6    6.0      5.0      7.0     5.0    9.0      3.0   \n",
       "2       CH    26.0     6    1.0      8.0      8.0     8.0    7.0      6.0   \n",
       "3       CH    28.0     6    4.0      6.0      6.0     7.0   10.0      6.0   \n",
       "4       CH    29.0     6    5.0      6.0      7.0     5.0    8.0      7.0   \n",
       "...    ...     ...   ...    ...      ...      ...     ...    ...      ...   \n",
       "8589    SE  3729.0     7    3.0      4.0      5.0     3.0    6.0      6.0   \n",
       "8590    SE  3732.0     7    5.0      6.0      4.0     4.0   10.0      6.0   \n",
       "8591    SE  3743.0     7    4.0      5.0      7.0     6.0    8.0      6.0   \n",
       "8592    SE  3744.0     7    5.0      8.0      8.0     6.0    9.0      7.0   \n",
       "8593    SE  3746.0     7    2.0      6.0      7.0     5.0    7.0      7.0   \n",
       "\n",
       "      sclact  gndr  agea  partner  \n",
       "0        4.0   2.0  60.0      1.0  \n",
       "1        2.0   2.0  59.0      1.0  \n",
       "2        3.0   1.0  24.0      2.0  \n",
       "3        2.0   2.0  64.0      1.0  \n",
       "4        2.0   2.0  55.0      1.0  \n",
       "...      ...   ...   ...      ...  \n",
       "8589     2.0   1.0  18.0      2.0  \n",
       "8590     3.0   1.0  15.0      2.0  \n",
       "8591     3.0   1.0  44.0      2.0  \n",
       "8592     3.0   1.0  15.0      2.0  \n",
       "8593     4.0   2.0  15.0      2.0  \n",
       "\n",
       "[8594 rows x 13 columns]"
      ]
     },
     "execution_count": 25,
     "metadata": {},
     "output_type": "execute_result"
    }
   ],
   "source": [
    "ess"
   ]
  },
  {
   "cell_type": "code",
   "execution_count": 28,
   "metadata": {},
   "outputs": [],
   "source": [
    "# Replace dataframe values with what they represent\n",
    "ess['year'] = ess['year'].map({6: 2012, 7: 2014})\n",
    "ess['gndr'] = ess['gndr'].map({1: 'Male', 2: 'Female'})\n",
    "ess['partner'] = ess['partner'].map({1: 'Together', 2: 'Alone'})\n",
    "ess['cntry'] = ess['cntry'].map({'CH': 'Switzerland',\n",
    "                                 'CZ': 'Czech Republic',\n",
    "                                 'DE': 'Denmark',\n",
    "                                 'ES': 'Spain',\n",
    "                                 'NO': 'Norway',\n",
    "                                 'SE': 'Sweden'})"
   ]
  },
  {
   "cell_type": "code",
   "execution_count": 29,
   "metadata": {},
   "outputs": [
    {
     "data": {
      "text/html": [
       "<div>\n",
       "<style scoped>\n",
       "    .dataframe tbody tr th:only-of-type {\n",
       "        vertical-align: middle;\n",
       "    }\n",
       "\n",
       "    .dataframe tbody tr th {\n",
       "        vertical-align: top;\n",
       "    }\n",
       "\n",
       "    .dataframe thead th {\n",
       "        text-align: right;\n",
       "    }\n",
       "</style>\n",
       "<table border=\"1\" class=\"dataframe\">\n",
       "  <thead>\n",
       "    <tr style=\"text-align: right;\">\n",
       "      <th></th>\n",
       "      <th>cntry</th>\n",
       "      <th>idno</th>\n",
       "      <th>year</th>\n",
       "      <th>tvtot</th>\n",
       "      <th>ppltrst</th>\n",
       "      <th>pplfair</th>\n",
       "      <th>pplhlp</th>\n",
       "      <th>happy</th>\n",
       "      <th>sclmeet</th>\n",
       "      <th>sclact</th>\n",
       "      <th>gndr</th>\n",
       "      <th>agea</th>\n",
       "      <th>partner</th>\n",
       "    </tr>\n",
       "  </thead>\n",
       "  <tbody>\n",
       "    <tr>\n",
       "      <th>0</th>\n",
       "      <td>Switzerland</td>\n",
       "      <td>5.0</td>\n",
       "      <td>2012</td>\n",
       "      <td>3.0</td>\n",
       "      <td>3.0</td>\n",
       "      <td>10.0</td>\n",
       "      <td>5.0</td>\n",
       "      <td>8.0</td>\n",
       "      <td>5.0</td>\n",
       "      <td>4.0</td>\n",
       "      <td>Female</td>\n",
       "      <td>60.0</td>\n",
       "      <td>Together</td>\n",
       "    </tr>\n",
       "    <tr>\n",
       "      <th>1</th>\n",
       "      <td>Switzerland</td>\n",
       "      <td>25.0</td>\n",
       "      <td>2012</td>\n",
       "      <td>6.0</td>\n",
       "      <td>5.0</td>\n",
       "      <td>7.0</td>\n",
       "      <td>5.0</td>\n",
       "      <td>9.0</td>\n",
       "      <td>3.0</td>\n",
       "      <td>2.0</td>\n",
       "      <td>Female</td>\n",
       "      <td>59.0</td>\n",
       "      <td>Together</td>\n",
       "    </tr>\n",
       "    <tr>\n",
       "      <th>2</th>\n",
       "      <td>Switzerland</td>\n",
       "      <td>26.0</td>\n",
       "      <td>2012</td>\n",
       "      <td>1.0</td>\n",
       "      <td>8.0</td>\n",
       "      <td>8.0</td>\n",
       "      <td>8.0</td>\n",
       "      <td>7.0</td>\n",
       "      <td>6.0</td>\n",
       "      <td>3.0</td>\n",
       "      <td>Male</td>\n",
       "      <td>24.0</td>\n",
       "      <td>Alone</td>\n",
       "    </tr>\n",
       "    <tr>\n",
       "      <th>3</th>\n",
       "      <td>Switzerland</td>\n",
       "      <td>28.0</td>\n",
       "      <td>2012</td>\n",
       "      <td>4.0</td>\n",
       "      <td>6.0</td>\n",
       "      <td>6.0</td>\n",
       "      <td>7.0</td>\n",
       "      <td>10.0</td>\n",
       "      <td>6.0</td>\n",
       "      <td>2.0</td>\n",
       "      <td>Female</td>\n",
       "      <td>64.0</td>\n",
       "      <td>Together</td>\n",
       "    </tr>\n",
       "    <tr>\n",
       "      <th>4</th>\n",
       "      <td>Switzerland</td>\n",
       "      <td>29.0</td>\n",
       "      <td>2012</td>\n",
       "      <td>5.0</td>\n",
       "      <td>6.0</td>\n",
       "      <td>7.0</td>\n",
       "      <td>5.0</td>\n",
       "      <td>8.0</td>\n",
       "      <td>7.0</td>\n",
       "      <td>2.0</td>\n",
       "      <td>Female</td>\n",
       "      <td>55.0</td>\n",
       "      <td>Together</td>\n",
       "    </tr>\n",
       "    <tr>\n",
       "      <th>...</th>\n",
       "      <td>...</td>\n",
       "      <td>...</td>\n",
       "      <td>...</td>\n",
       "      <td>...</td>\n",
       "      <td>...</td>\n",
       "      <td>...</td>\n",
       "      <td>...</td>\n",
       "      <td>...</td>\n",
       "      <td>...</td>\n",
       "      <td>...</td>\n",
       "      <td>...</td>\n",
       "      <td>...</td>\n",
       "      <td>...</td>\n",
       "    </tr>\n",
       "    <tr>\n",
       "      <th>8589</th>\n",
       "      <td>Sweden</td>\n",
       "      <td>3729.0</td>\n",
       "      <td>2014</td>\n",
       "      <td>3.0</td>\n",
       "      <td>4.0</td>\n",
       "      <td>5.0</td>\n",
       "      <td>3.0</td>\n",
       "      <td>6.0</td>\n",
       "      <td>6.0</td>\n",
       "      <td>2.0</td>\n",
       "      <td>Male</td>\n",
       "      <td>18.0</td>\n",
       "      <td>Alone</td>\n",
       "    </tr>\n",
       "    <tr>\n",
       "      <th>8590</th>\n",
       "      <td>Sweden</td>\n",
       "      <td>3732.0</td>\n",
       "      <td>2014</td>\n",
       "      <td>5.0</td>\n",
       "      <td>6.0</td>\n",
       "      <td>4.0</td>\n",
       "      <td>4.0</td>\n",
       "      <td>10.0</td>\n",
       "      <td>6.0</td>\n",
       "      <td>3.0</td>\n",
       "      <td>Male</td>\n",
       "      <td>15.0</td>\n",
       "      <td>Alone</td>\n",
       "    </tr>\n",
       "    <tr>\n",
       "      <th>8591</th>\n",
       "      <td>Sweden</td>\n",
       "      <td>3743.0</td>\n",
       "      <td>2014</td>\n",
       "      <td>4.0</td>\n",
       "      <td>5.0</td>\n",
       "      <td>7.0</td>\n",
       "      <td>6.0</td>\n",
       "      <td>8.0</td>\n",
       "      <td>6.0</td>\n",
       "      <td>3.0</td>\n",
       "      <td>Male</td>\n",
       "      <td>44.0</td>\n",
       "      <td>Alone</td>\n",
       "    </tr>\n",
       "    <tr>\n",
       "      <th>8592</th>\n",
       "      <td>Sweden</td>\n",
       "      <td>3744.0</td>\n",
       "      <td>2014</td>\n",
       "      <td>5.0</td>\n",
       "      <td>8.0</td>\n",
       "      <td>8.0</td>\n",
       "      <td>6.0</td>\n",
       "      <td>9.0</td>\n",
       "      <td>7.0</td>\n",
       "      <td>3.0</td>\n",
       "      <td>Male</td>\n",
       "      <td>15.0</td>\n",
       "      <td>Alone</td>\n",
       "    </tr>\n",
       "    <tr>\n",
       "      <th>8593</th>\n",
       "      <td>Sweden</td>\n",
       "      <td>3746.0</td>\n",
       "      <td>2014</td>\n",
       "      <td>2.0</td>\n",
       "      <td>6.0</td>\n",
       "      <td>7.0</td>\n",
       "      <td>5.0</td>\n",
       "      <td>7.0</td>\n",
       "      <td>7.0</td>\n",
       "      <td>4.0</td>\n",
       "      <td>Female</td>\n",
       "      <td>15.0</td>\n",
       "      <td>Alone</td>\n",
       "    </tr>\n",
       "  </tbody>\n",
       "</table>\n",
       "<p>8594 rows × 13 columns</p>\n",
       "</div>"
      ],
      "text/plain": [
       "            cntry    idno  year  tvtot  ppltrst  pplfair  pplhlp  happy  \\\n",
       "0     Switzerland     5.0  2012    3.0      3.0     10.0     5.0    8.0   \n",
       "1     Switzerland    25.0  2012    6.0      5.0      7.0     5.0    9.0   \n",
       "2     Switzerland    26.0  2012    1.0      8.0      8.0     8.0    7.0   \n",
       "3     Switzerland    28.0  2012    4.0      6.0      6.0     7.0   10.0   \n",
       "4     Switzerland    29.0  2012    5.0      6.0      7.0     5.0    8.0   \n",
       "...           ...     ...   ...    ...      ...      ...     ...    ...   \n",
       "8589       Sweden  3729.0  2014    3.0      4.0      5.0     3.0    6.0   \n",
       "8590       Sweden  3732.0  2014    5.0      6.0      4.0     4.0   10.0   \n",
       "8591       Sweden  3743.0  2014    4.0      5.0      7.0     6.0    8.0   \n",
       "8592       Sweden  3744.0  2014    5.0      8.0      8.0     6.0    9.0   \n",
       "8593       Sweden  3746.0  2014    2.0      6.0      7.0     5.0    7.0   \n",
       "\n",
       "      sclmeet  sclact    gndr  agea   partner  \n",
       "0         5.0     4.0  Female  60.0  Together  \n",
       "1         3.0     2.0  Female  59.0  Together  \n",
       "2         6.0     3.0    Male  24.0     Alone  \n",
       "3         6.0     2.0  Female  64.0  Together  \n",
       "4         7.0     2.0  Female  55.0  Together  \n",
       "...       ...     ...     ...   ...       ...  \n",
       "8589      6.0     2.0    Male  18.0     Alone  \n",
       "8590      6.0     3.0    Male  15.0     Alone  \n",
       "8591      6.0     3.0    Male  44.0     Alone  \n",
       "8592      7.0     3.0    Male  15.0     Alone  \n",
       "8593      7.0     4.0  Female  15.0     Alone  \n",
       "\n",
       "[8594 rows x 13 columns]"
      ]
     },
     "execution_count": 29,
     "metadata": {},
     "output_type": "execute_result"
    }
   ],
   "source": [
    "ess"
   ]
  },
  {
   "cell_type": "markdown",
   "metadata": {},
   "source": [
    "### 1) Did people become less trusting from 2012 to 2014? Compute results for each country in the sample."
   ]
  },
  {
   "cell_type": "code",
   "execution_count": 31,
   "metadata": {},
   "outputs": [
    {
     "data": {
      "image/png": "[encoded data removed]",
      "text/plain": [
       "<Figure size 432x216 with 2 Axes>"
      ]
     },
     "metadata": {},
     "output_type": "display_data"
    },
    {
     "data": {
      "image/png": "[encoded data removed]",
      "text/plain": [
       "<Figure size 432x216 with 2 Axes>"
      ]
     },
     "metadata": {},
     "output_type": "display_data"
    },
    {
     "data": {
      "image/png": "[encoded data removed]",
      "text/plain": [
       "<Figure size 432x216 with 2 Axes>"
      ]
     },
     "metadata": {},
     "output_type": "display_data"
    },
    {
     "data": {
      "image/png": "[encoded data removed]",
      "text/plain": [
       "<Figure size 432x216 with 2 Axes>"
      ]
     },
     "metadata": {},
     "output_type": "display_data"
    },
    {
     "data": {
      "image/png": "[encoded data removed]",
      "text/plain": [
       "<Figure size 432x216 with 2 Axes>"
      ]
     },
     "metadata": {},
     "output_type": "display_data"
    },
    {
     "data": {
      "image/png": "[encoded data removed]",
      "text/plain": [
       "<Figure size 432x216 with 2 Axes>"
      ]
     },
     "metadata": {},
     "output_type": "display_data"
    }
   ],
   "source": [
    "for e_cntry in ess['cntry'].unique():\n",
    "    df2012 = ess.loc[(ess['cntry'] == e_cntry) & (ess['year']==2012),'ppltrst'].dropna()\n",
    "    df2014 = ess.loc[(ess['cntry'] == e_cntry) & (ess['year']==2014),'ppltrst'].dropna()\n",
    "    \n",
    "    fig, axs = plt.subplots(1, 2, figsize=(6, 3))\n",
    "    axs[0].hist(df2012)\n",
    "    axs[1].hist(df2014)\n",
    "    axs[0].set_title('2012: {}'.format(e_cntry))\n",
    "    axs[1].set_title('2014: {}'.format(e_cntry))\n",
    "    fig.text(0.1, 0, 'Mean:{}'.format(df2012.mean()))\n",
    "    fig.text(0.6, 0, 'Mean:{}'.format(df2014.mean()))\n",
    "    plt.tight_layout()\n",
    "    plt.show()"
   ]
  },
  {
   "cell_type": "markdown",
   "metadata": {},
   "source": [
    "Looking by eye, the distributions are not normal. Let's also check this in tabular form."
   ]
  },
  {
   "cell_type": "code",
   "execution_count": 33,
   "metadata": {},
   "outputs": [
    {
     "data": {
      "text/html": [
       "<table class=\"simpletable\">\n",
       "<caption>Multiple Comparison of Means - Tukey HSD, FWER=0.05</caption>\n",
       "<tr>\n",
       "      <th>group1</th>       <th>group2</th>    <th>meandiff</th>  <th>p-adj</th>  <th>lower</th>   <th>upper</th>  <th>reject</th>\n",
       "</tr>\n",
       "<tr>\n",
       "  <td>Czech Republic</td>   <td>Denmark</td>    <td>0.8428</td>  <td>0.3003</td> <td>-0.3146</td> <td>2.0001</td>   <td>False</td>\n",
       "</tr>\n",
       "<tr>\n",
       "  <td>Czech Republic</td>   <td>Norway</td>     <td>2.2445</td>   <td>0.001</td> <td>2.0116</td>  <td>2.4773</td>   <td>True</td> \n",
       "</tr>\n",
       "<tr>\n",
       "  <td>Czech Republic</td>    <td>Spain</td>     <td>0.6555</td>   <td>0.001</td> <td>0.4439</td>   <td>0.867</td>   <td>True</td> \n",
       "</tr>\n",
       "<tr>\n",
       "  <td>Czech Republic</td>   <td>Sweden</td>     <td>1.7625</td>   <td>0.001</td> <td>1.5393</td>  <td>1.9857</td>   <td>True</td> \n",
       "</tr>\n",
       "<tr>\n",
       "  <td>Czech Republic</td> <td>Switzerland</td>   <td>1.346</td>   <td>0.001</td> <td>1.1151</td>  <td>1.5768</td>   <td>True</td> \n",
       "</tr>\n",
       "<tr>\n",
       "      <td>Denmark</td>      <td>Norway</td>     <td>1.4017</td>  <td>0.0072</td> <td>0.2463</td>  <td>2.5572</td>   <td>True</td> \n",
       "</tr>\n",
       "<tr>\n",
       "      <td>Denmark</td>       <td>Spain</td>     <td>-0.1873</td>   <td>0.9</td>  <td>-1.3386</td>  <td>0.964</td>   <td>False</td>\n",
       "</tr>\n",
       "<tr>\n",
       "      <td>Denmark</td>      <td>Sweden</td>     <td>0.9197</td>  <td>0.2053</td> <td>-0.2338</td> <td>2.0733</td>   <td>False</td>\n",
       "</tr>\n",
       "<tr>\n",
       "      <td>Denmark</td>    <td>Switzerland</td>  <td>0.5032</td>  <td>0.7917</td> <td>-0.6518</td> <td>1.6582</td>   <td>False</td>\n",
       "</tr>\n",
       "<tr>\n",
       "      <td>Norway</td>        <td>Spain</td>     <td>-1.589</td>   <td>0.001</td> <td>-1.7899</td> <td>-1.3882</td>  <td>True</td> \n",
       "</tr>\n",
       "<tr>\n",
       "      <td>Norway</td>       <td>Sweden</td>     <td>-0.482</td>   <td>0.001</td> <td>-0.6951</td> <td>-0.2689</td>  <td>True</td> \n",
       "</tr>\n",
       "<tr>\n",
       "      <td>Norway</td>     <td>Switzerland</td>  <td>-0.8985</td>  <td>0.001</td> <td>-1.1196</td> <td>-0.6774</td>  <td>True</td> \n",
       "</tr>\n",
       "<tr>\n",
       "       <td>Spain</td>       <td>Sweden</td>      <td>1.107</td>   <td>0.001</td> <td>0.9175</td>  <td>1.2966</td>   <td>True</td> \n",
       "</tr>\n",
       "<tr>\n",
       "       <td>Spain</td>     <td>Switzerland</td>  <td>0.6905</td>   <td>0.001</td>  <td>0.492</td>  <td>0.8891</td>   <td>True</td> \n",
       "</tr>\n",
       "<tr>\n",
       "      <td>Sweden</td>     <td>Switzerland</td>  <td>-0.4165</td>  <td>0.001</td> <td>-0.6274</td> <td>-0.2056</td>  <td>True</td> \n",
       "</tr>\n",
       "</table>"
      ],
      "text/plain": [
       "<class 'statsmodels.iolib.table.SimpleTable'>"
      ]
     },
     "execution_count": 33,
     "metadata": {},
     "output_type": "execute_result"
    }
   ],
   "source": [
    "ess2 = ess.dropna()\n",
    "# Run normality test to determine what test to use\n",
    "tukey = pairwise_tukeyhsd(endog=ess2['ppltrst'],      \n",
    "                          groups=ess2['cntry'],   \n",
    "                          alpha=0.05)         \n",
    "tukey.summary()"
   ]
  },
  {
   "cell_type": "markdown",
   "metadata": {},
   "source": [
    "Since our most of our data is not normal, and we have data from two different years, let us use a Wilcoxon signed-rank test."
   ]
  },
  {
   "cell_type": "code",
   "execution_count": 35,
   "metadata": {},
   "outputs": [
    {
     "name": "stdout",
     "output_type": "stream",
     "text": [
      "Switzerland : WilcoxonResult(statistic=106278.5, pvalue=0.4411286510952477)\n",
      "2012 avg: 5.677878395860285 \t 2014 avg 5.751617076326003 \n",
      "\n",
      "Czech Republic : WilcoxonResult(statistic=82837.0, pvalue=0.2931891426327379)\n",
      "2012 avg: 4.362519201228879 \t 2014 avg 4.424657534246576 \n",
      "\n",
      "Denmark : WilcoxonResult(statistic=44.0, pvalue=0.9157134600899863)\n",
      "2012 avg: 5.214285714285714 \t 2014 avg 5.357142857142857 \n",
      "\n",
      "Spain : WilcoxonResult(statistic=243475.5, pvalue=0.005570829650439684)\n",
      "2012 avg: 5.114591920857379 \t 2014 avg 4.895127993393889 \n",
      "\n",
      "Norway : WilcoxonResult(statistic=85392.0, pvalue=0.6139175669970661)\n",
      "2012 avg: 6.64931506849315 \t 2014 avg 6.598630136986301 \n",
      "\n",
      "Sweden : WilcoxonResult(statistic=130719.5, pvalue=0.028545290985536906)\n",
      "2012 avg: 6.058498896247241 \t 2014 avg 6.257709251101321 \n",
      "\n"
     ]
    },
    {
     "name": "stderr",
     "output_type": "stream",
     "text": [
      "/Users/Mahfuz-Tamim/anaconda3/lib/python3.6/site-packages/scipy/stats/morestats.py:2866: RuntimeWarning: invalid value encountered in greater\n",
      "  r_plus = np.sum((d > 0) * r, axis=0)\n",
      "/Users/Mahfuz-Tamim/anaconda3/lib/python3.6/site-packages/scipy/stats/morestats.py:2867: RuntimeWarning: invalid value encountered in less\n",
      "  r_minus = np.sum((d < 0) * r, axis=0)\n"
     ]
    }
   ],
   "source": [
    "# Create a list for the countries\n",
    "countries = ess['cntry'].unique().tolist()\n",
    "\n",
    "# Print wilcoxon result for each country\n",
    "for country in countries:\n",
    "    ppltrst_2012 = (ess.loc[(ess['year']==2012) & (ess['cntry']==country)])['ppltrst']\n",
    "    ppltrst_2014 = (ess.loc[(ess['year']==2014) & (ess['cntry']==country)])['ppltrst']\n",
    "    \n",
    "    trst_avg_2012 = ((ess.loc[(ess['year']==2012) & (ess['cntry']==country)])['ppltrst']).mean()\n",
    "    trst_avg_2014 = ((ess.loc[(ess['year']==2014) & (ess['cntry']==country)])['ppltrst']).mean()\n",
    "    \n",
    "    print(country, ':', wilcoxon(ppltrst_2012,ppltrst_2014))\n",
    "    print('2012 avg:', trst_avg_2012, '\\t','2014 avg', trst_avg_2014, '\\n')"
   ]
  },
  {
   "cell_type": "markdown",
   "metadata": {},
   "source": [
    "P < .05 exists for Spain and Sweden. Spain is down on trust by about -0.22 points, and\n",
    "Sweden is up on the trust metric by about +0.20 points."
   ]
  },
  {
   "cell_type": "markdown",
   "metadata": {},
   "source": [
    "### 2) Did people become happier from 2012 to 2014? Compute results for each country in the sample."
   ]
  },
  {
   "cell_type": "code",
   "execution_count": 36,
   "metadata": {},
   "outputs": [
    {
     "data": {
      "text/plain": [
       "array([[<matplotlib.axes._subplots.AxesSubplot object at 0x126c021d0>,\n",
       "        <matplotlib.axes._subplots.AxesSubplot object at 0x12783a7f0>,\n",
       "        <matplotlib.axes._subplots.AxesSubplot object at 0x12784edd8>],\n",
       "       [<matplotlib.axes._subplots.AxesSubplot object at 0x126df6f28>,\n",
       "        <matplotlib.axes._subplots.AxesSubplot object at 0x1275920b8>,\n",
       "        <matplotlib.axes._subplots.AxesSubplot object at 0x126d3f208>],\n",
       "       [<matplotlib.axes._subplots.AxesSubplot object at 0x126d0d358>,\n",
       "        <matplotlib.axes._subplots.AxesSubplot object at 0x1278ea4e0>,\n",
       "        <matplotlib.axes._subplots.AxesSubplot object at 0x1278ea518>],\n",
       "       [<matplotlib.axes._subplots.AxesSubplot object at 0x11e751748>,\n",
       "        <matplotlib.axes._subplots.AxesSubplot object at 0x127be5898>,\n",
       "        <matplotlib.axes._subplots.AxesSubplot object at 0x1276fb9e8>]],\n",
       "      dtype=object)"
      ]
     },
     "execution_count": 36,
     "metadata": {},
     "output_type": "execute_result"
    },
    {
     "data": {
      "image/png": "[encoded data removed]",
      "text/plain": [
       "<Figure size 864x1296 with 12 Axes>"
      ]
     },
     "metadata": {},
     "output_type": "display_data"
    }
   ],
   "source": [
    "plt.rcParams['figure.figsize'] = [12,18]\n",
    "ess.hist(by=['cntry', 'year'], column='happy')"
   ]
  },
  {
   "cell_type": "code",
   "execution_count": 37,
   "metadata": {},
   "outputs": [
    {
     "data": {
      "text/html": [
       "<table class=\"simpletable\">\n",
       "<caption>Multiple Comparison of Means - Tukey HSD, FWER=0.05</caption>\n",
       "<tr>\n",
       "      <th>group1</th>       <th>group2</th>    <th>meandiff</th>  <th>p-adj</th>  <th>lower</th>   <th>upper</th>  <th>reject</th>\n",
       "</tr>\n",
       "<tr>\n",
       "  <td>Czech Republic</td>   <td>Denmark</td>    <td>0.7359</td>  <td>0.2072</td> <td>-0.1888</td> <td>1.6607</td>   <td>False</td>\n",
       "</tr>\n",
       "<tr>\n",
       "  <td>Czech Republic</td>   <td>Norway</td>     <td>1.2292</td>   <td>0.001</td> <td>1.0432</td>  <td>1.4153</td>   <td>True</td> \n",
       "</tr>\n",
       "<tr>\n",
       "  <td>Czech Republic</td>    <td>Spain</td>     <td>0.6481</td>   <td>0.001</td> <td>0.4791</td>  <td>0.8171</td>   <td>True</td> \n",
       "</tr>\n",
       "<tr>\n",
       "  <td>Czech Republic</td>   <td>Sweden</td>     <td>1.0634</td>   <td>0.001</td> <td>0.8851</td>  <td>1.2417</td>   <td>True</td> \n",
       "</tr>\n",
       "<tr>\n",
       "  <td>Czech Republic</td> <td>Switzerland</td>  <td>1.2566</td>   <td>0.001</td> <td>1.0721</td>   <td>1.441</td>   <td>True</td> \n",
       "</tr>\n",
       "<tr>\n",
       "      <td>Denmark</td>      <td>Norway</td>     <td>0.4933</td>  <td>0.6293</td> <td>-0.4299</td> <td>1.4166</td>   <td>False</td>\n",
       "</tr>\n",
       "<tr>\n",
       "      <td>Denmark</td>       <td>Spain</td>     <td>-0.0878</td>   <td>0.9</td>  <td>-1.0077</td> <td>0.8322</td>   <td>False</td>\n",
       "</tr>\n",
       "<tr>\n",
       "      <td>Denmark</td>      <td>Sweden</td>     <td>0.3275</td>    <td>0.9</td>  <td>-0.5943</td> <td>1.2492</td>   <td>False</td>\n",
       "</tr>\n",
       "<tr>\n",
       "      <td>Denmark</td>    <td>Switzerland</td>  <td>0.5206</td>  <td>0.5803</td> <td>-0.4023</td> <td>1.4435</td>   <td>False</td>\n",
       "</tr>\n",
       "<tr>\n",
       "      <td>Norway</td>        <td>Spain</td>     <td>-0.5811</td>  <td>0.001</td> <td>-0.7416</td> <td>-0.4206</td>  <td>True</td> \n",
       "</tr>\n",
       "<tr>\n",
       "      <td>Norway</td>       <td>Sweden</td>     <td>-0.1659</td> <td>0.0614</td> <td>-0.3361</td> <td>0.0044</td>   <td>False</td>\n",
       "</tr>\n",
       "<tr>\n",
       "      <td>Norway</td>     <td>Switzerland</td>  <td>0.0273</td>    <td>0.9</td>  <td>-0.1494</td>  <td>0.204</td>   <td>False</td>\n",
       "</tr>\n",
       "<tr>\n",
       "       <td>Spain</td>       <td>Sweden</td>     <td>0.4152</td>   <td>0.001</td> <td>0.2638</td>  <td>0.5667</td>   <td>True</td> \n",
       "</tr>\n",
       "<tr>\n",
       "       <td>Spain</td>     <td>Switzerland</td>  <td>0.6084</td>   <td>0.001</td> <td>0.4498</td>  <td>0.7671</td>   <td>True</td> \n",
       "</tr>\n",
       "<tr>\n",
       "      <td>Sweden</td>     <td>Switzerland</td>  <td>0.1932</td>  <td>0.0139</td> <td>0.0247</td>  <td>0.3617</td>   <td>True</td> \n",
       "</tr>\n",
       "</table>"
      ],
      "text/plain": [
       "<class 'statsmodels.iolib.table.SimpleTable'>"
      ]
     },
     "execution_count": 37,
     "metadata": {},
     "output_type": "execute_result"
    }
   ],
   "source": [
    "# Run normality test to determine what test to use\n",
    "tukey = pairwise_tukeyhsd(endog=ess2['happy'],      \n",
    "                          groups=ess2['cntry'],   \n",
    "                          alpha=0.05)         \n",
    "tukey.summary()"
   ]
  },
  {
   "cell_type": "markdown",
   "metadata": {},
   "source": [
    "For the same reasons as question 1, we can go with wilcoxon signed-rank test again. (Lots of skewed data)."
   ]
  },
  {
   "cell_type": "code",
   "execution_count": 38,
   "metadata": {},
   "outputs": [
    {
     "name": "stdout",
     "output_type": "stream",
     "text": [
      "Switzerland : WilcoxonResult(statistic=92816.5, pvalue=0.8208688161425343)\n",
      "Happiness Avg, 2012 8.088311688311688 \t Happiness Avg, 2012 8.116429495472186 \n",
      "\n",
      "Czech Republic : WilcoxonResult(statistic=73213.0, pvalue=0.01064243454053068)\n",
      "Happiness Avg, 2012 6.7708978328173375 \t Happiness Avg, 2012 6.914110429447852 \n",
      "\n",
      "Denmark : WilcoxonResult(statistic=23.5, pvalue=0.393351316918508)\n",
      "Happiness Avg, 2012 7.428571428571429 \t Happiness Avg, 2012 7.857142857142857 \n",
      "\n",
      "Spain : WilcoxonResult(statistic=231958.5, pvalue=0.04923868084306013)\n",
      "Happiness Avg, 2012 7.548679867986799 \t Happiness Avg, 2012 7.41996699669967 \n",
      "\n",
      "Norway : WilcoxonResult(statistic=67571.5, pvalue=2.7264367804254175e-06)\n",
      "Happiness Avg, 2012 8.25171939477304 \t Happiness Avg, 2012 7.9151846785225715 \n",
      "\n",
      "Sweden : WilcoxonResult(statistic=125481.0, pvalue=0.5136403441005022)\n",
      "Happiness Avg, 2012 7.907386990077177 \t Happiness Avg, 2012 7.946961325966851 \n",
      "\n"
     ]
    },
    {
     "name": "stderr",
     "output_type": "stream",
     "text": [
      "/Users/Mahfuz-Tamim/anaconda3/lib/python3.6/site-packages/scipy/stats/morestats.py:2866: RuntimeWarning: invalid value encountered in greater\n",
      "  r_plus = np.sum((d > 0) * r, axis=0)\n",
      "/Users/Mahfuz-Tamim/anaconda3/lib/python3.6/site-packages/scipy/stats/morestats.py:2867: RuntimeWarning: invalid value encountered in less\n",
      "  r_minus = np.sum((d < 0) * r, axis=0)\n"
     ]
    }
   ],
   "source": [
    "# Print wilcoxon result for each country\n",
    "for country in countries:\n",
    "    pplhappy2012 = (ess.loc[(ess['year']==2012) & (ess['cntry']==country)])['happy']\n",
    "    pplhappy2014 = (ess.loc[(ess['year']==2014) & (ess['cntry']==country)])['happy']\n",
    "    happy_avg_2012 = ((ess.loc[(ess['year']==2012) & (ess['cntry']==country)])['happy']).mean()\n",
    "    happy_avg_2014 = ((ess.loc[(ess['year']==2014) & (ess['cntry']==country)])['happy']).mean()\n",
    "    \n",
    "    print(country, ':', wilcoxon(pplhappy2012,pplhappy2014))\n",
    "    print('Happiness Avg, 2012', happy_avg_2012, '\\t', 'Happiness Avg, 2012', happy_avg_2014, '\\n')"
   ]
  },
  {
   "cell_type": "markdown",
   "metadata": {},
   "source": [
    "### 3. Who reported watching more TV in 2012, men or women?"
   ]
  },
  {
   "cell_type": "code",
   "execution_count": 39,
   "metadata": {},
   "outputs": [
    {
     "data": {
      "text/plain": [
       "array([<matplotlib.axes._subplots.AxesSubplot object at 0x127b705c0>,\n",
       "       <matplotlib.axes._subplots.AxesSubplot object at 0x127de0898>],\n",
       "      dtype=object)"
      ]
     },
     "execution_count": 39,
     "metadata": {},
     "output_type": "execute_result"
    },
    {
     "data": {
      "image/png": "[encoded data removed]",
      "text/plain": [
       "<Figure size 576x216 with 2 Axes>"
      ]
     },
     "metadata": {},
     "output_type": "display_data"
    }
   ],
   "source": [
    "plt.rcParams['figure.figsize'] = [8,3]\n",
    "\n",
    "(ess.loc[(ess['year']==2012)]).hist(by=['gndr'], column='tvtot')"
   ]
  },
  {
   "cell_type": "code",
   "execution_count": 40,
   "metadata": {},
   "outputs": [
    {
     "data": {
      "text/html": [
       "<table class=\"simpletable\">\n",
       "<caption>Multiple Comparison of Means - Tukey HSD, FWER=0.05</caption>\n",
       "<tr>\n",
       "  <th>group1</th> <th>group2</th> <th>meandiff</th>  <th>p-adj</th>  <th>lower</th>   <th>upper</th> <th>reject</th>\n",
       "</tr>\n",
       "<tr>\n",
       "  <td>Female</td>  <td>Male</td>   <td>-0.072</td>  <td>0.1058</td> <td>-0.1593</td> <td>0.0152</td>  <td>False</td>\n",
       "</tr>\n",
       "</table>"
      ],
      "text/plain": [
       "<class 'statsmodels.iolib.table.SimpleTable'>"
      ]
     },
     "execution_count": 40,
     "metadata": {},
     "output_type": "execute_result"
    }
   ],
   "source": [
    "# Run normality test to determine what test to use\n",
    "tukey = pairwise_tukeyhsd(endog=ess2['tvtot'],      \n",
    "                          groups=ess2['gndr'],   \n",
    "                          alpha=0.05)         \n",
    "\n",
    "tukey.summary()"
   ]
  },
  {
   "cell_type": "code",
   "execution_count": 41,
   "metadata": {},
   "outputs": [
    {
     "data": {
      "text/plain": [
       "Ttest_indResult(statistic=-0.7321850526951791, pvalue=0.46409787829722293)"
      ]
     },
     "execution_count": 41,
     "metadata": {},
     "output_type": "execute_result"
    }
   ],
   "source": [
    "# Somewhat normal distribution observed so we can try to run a t-test\n",
    "# Run t-test in order to see if the two groups are significantly different\n",
    "ttest_ind((ess2.loc[(ess2['year']==2012) & (ess2['gndr']=='Male')])['tvtot'],\n",
    "        (ess2.loc[(ess2['year']==2012) & (ess2['gndr']=='Female')])['tvtot'],\n",
    "         equal_var=False)"
   ]
  },
  {
   "cell_type": "code",
   "execution_count": 42,
   "metadata": {},
   "outputs": [
    {
     "name": "stdout",
     "output_type": "stream",
     "text": [
      "Men: 3.901906090190609 \n",
      "Women: 3.944392523364486\n"
     ]
    }
   ],
   "source": [
    "# Compute average tv time for men and women in 2012\n",
    "tv_men = ((ess.loc[(ess['year']==2012) & (ess['gndr']=='Male')])['tvtot']).mean()\n",
    "tv_women = ((ess.loc[(ess['year']==2012) & (ess['gndr']=='Female')])['tvtot']).mean()\n",
    "\n",
    "print(\"Men: {} \\nWomen: {}\".format(tv_men, tv_women))"
   ]
  },
  {
   "cell_type": "markdown",
   "metadata": {},
   "source": [
    "Women watch tv more often by .04 hours but this does not reach statistical significance."
   ]
  },
  {
   "cell_type": "markdown",
   "metadata": {},
   "source": [
    "### 4. Who was more likely to believe people were fair in 2012, people living with a partner or people living alone?"
   ]
  },
  {
   "cell_type": "code",
   "execution_count": null,
   "metadata": {},
   "outputs": [],
   "source": [
    "## ref: https://docs.scipy.org/doc/scipy/reference/generated/scipy.stats.median_test.html"
   ]
  },
  {
   "cell_type": "code",
   "execution_count": 43,
   "metadata": {},
   "outputs": [
    {
     "data": {
      "text/plain": [
       "array([<matplotlib.axes._subplots.AxesSubplot object at 0x1275c9e80>,\n",
       "       <matplotlib.axes._subplots.AxesSubplot object at 0x11e00d0b8>],\n",
       "      dtype=object)"
      ]
     },
     "execution_count": 43,
     "metadata": {},
     "output_type": "execute_result"
    },
    {
     "data": {
      "image/png": "[encoded data removed]",
      "text/plain": [
       "<Figure size 576x216 with 2 Axes>"
      ]
     },
     "metadata": {},
     "output_type": "display_data"
    }
   ],
   "source": [
    "plt.rcParams['figure.figsize'] = [8,3]\n",
    "\n",
    "(ess.loc[(ess['year']==2012)]).hist(by=['partner'], column='pplfair')"
   ]
  },
  {
   "cell_type": "code",
   "execution_count": 71,
   "metadata": {},
   "outputs": [
    {
     "name": "stdout",
     "output_type": "stream",
     "text": [
      "Shapiro Score: 0.9475398063659668\n",
      "Mannwhitney_Score:0.00010499272215466025\n"
     ]
    }
   ],
   "source": [
    "pfair_df = ess.loc[ess['year']==2012,['partner','pplfair']].dropna()\n",
    "shapior_score = stats.shapiro(pfair_df['pplfair'])[0]\n",
    "print('Shapiro Score: {}'.format(shapior_score))\n",
    "\n",
    "part_fair = pfair_df.loc[pfair_df.partner==\"Together\",'pplfair'].dropna()\n",
    "alone_fair = pfair_df.loc[pfair_df.partner==\"Alone\",'pplfair'].dropna()\n",
    "if shapiro_score>0.95:\n",
    "    #use ttest for a normal distribution\n",
    "    print('TTest_Score:{}'.format(stats.ttest_ind(part_fair,alone_fair)[1]))\n",
    "else:\n",
    "    #use mannwhitney for non-normal\n",
    "    print('Mannwhitney_Score:{}'.format(stats.mannwhitneyu(part_fair,alone_fair)[1]))\n"
   ]
  },
  {
   "cell_type": "code",
   "execution_count": 52,
   "metadata": {},
   "outputs": [
    {
     "name": "stdout",
     "output_type": "stream",
     "text": [
      "2012 PPLFAIR:\n",
      "Live with partner mean:6.080736012016523\n",
      "Live alone mean:5.856965174129353\n"
     ]
    }
   ],
   "source": [
    "print(f'2012 PPLFAIR:\\nLive with partner mean:{part_fair.mean()}\\nLive alone mean:{alone_fair.mean()}'\n",
    ")"
   ]
  },
  {
   "cell_type": "markdown",
   "metadata": {},
   "source": [
    "The mannwhitney non-parametric test informs us of significant difference and we note a decrease in the mean of people living alone. That is to say that those that live alone tend to think others are less fair compared to their partnered counterparts.\n",
    "\n"
   ]
  },
  {
   "cell_type": "markdown",
   "metadata": {},
   "source": [
    "### 5. Pick three or four of the countries in the sample and compare how often people met socially in 2014. Are there differences, and if so, which countries stand out?"
   ]
  },
  {
   "cell_type": "code",
   "execution_count": 70,
   "metadata": {},
   "outputs": [
    {
     "name": "stdout",
     "output_type": "stream",
     "text": [
      "Shapiro Score: 0.886411190032959\n"
     ]
    }
   ],
   "source": [
    "countries = ['Switzerland','Czech Republic','Denmark','Spain']\n",
    "sclmeet_df = ess.loc[(ess['year']==2012) & (ess['cntry'].isin(countries)),['cntry','sclmeet']].dropna()\n",
    "shapiro_score = stats.shapiro(sclmeet_df['sclmeet'])[0]\n",
    "print('Shapiro Score: {}'.format(shapior_score))"
   ]
  },
  {
   "cell_type": "code",
   "execution_count": 66,
   "metadata": {},
   "outputs": [
    {
     "name": "stdout",
     "output_type": "stream",
     "text": [
      "(33.717603033714525, 2.272661546571368e-07, 5.0, array([[371, 244,   6, 619],\n",
      "       [399, 411,   8, 592]]))\n"
     ]
    }
   ],
   "source": [
    "list_of_cntry_dfs = list()\n",
    "for e_cntry in countries:\n",
    "    list_of_cntry_dfs.append(sclmeet_df.loc[sclmeet_df.cntry==e_cntry,'sclmeet'])\n",
    "print(stats.median_test(list_of_cntry_dfs[0],list_of_cntry_dfs[1],list_of_cntry_dfs[2],list_of_cntry_dfs[3]))"
   ]
  },
  {
   "cell_type": "markdown",
   "metadata": {},
   "source": [
    "There is a significant difference according to the non-parametric test. Looking at the data, Denmark seems to be noticably different from the rest!\n"
   ]
  },
  {
   "cell_type": "markdown",
   "metadata": {},
   "source": [
    "### 6. Pick three or four of the countries in the sample and compare how often people took part in social activities, relative to others their age, in 2014. Are there differences, and if so, which countries stand out?"
   ]
  },
  {
   "cell_type": "code",
   "execution_count": 69,
   "metadata": {},
   "outputs": [
    {
     "name": "stdout",
     "output_type": "stream",
     "text": [
      "Shapiro Score: 0.886411190032959\n"
     ]
    }
   ],
   "source": [
    "countries = ['Switzerland','Czech Republic','Denmark','Spain']\n",
    "act_df = ess.loc[(ess['year']==2014) & (ess['cntry'].isin(countries)),['cntry','sclact']].dropna()\n",
    "shapiro_score = stats.shapiro(act_df['sclact'])[0]\n",
    "print('Shapiro Score: {}'.format(shapior_score))"
   ]
  },
  {
   "cell_type": "code",
   "execution_count": 73,
   "metadata": {},
   "outputs": [
    {
     "name": "stdout",
     "output_type": "stream",
     "text": [
      "(12.208288681992352, 0.006702667415194083, 3.0, array([[ 144,   81,    1,  176],\n",
      "       [ 621,  569,   13, 1009]]))\n"
     ]
    }
   ],
   "source": [
    "list_of_cntry_dfs = list()\n",
    "for e_cntry in countries:\n",
    "    list_of_cntry_dfs.append(act_df.loc[act_df.cntry==e_cntry,'sclact'])\n",
    "print(stats.median_test(list_of_cntry_dfs[0],list_of_cntry_dfs[1],list_of_cntry_dfs[2],list_of_cntry_dfs[3]))"
   ]
  },
  {
   "cell_type": "markdown",
   "metadata": {},
   "source": [
    "Again Denmark seems to stand out and we do reach statistical significance with p < .01."
   ]
  },
  {
   "cell_type": "code",
   "execution_count": null,
   "metadata": {},
   "outputs": [],
   "source": []
  }
 ],
 "metadata": {
  "kernelspec": {
   "display_name": "Python 3",
   "language": "python",
   "name": "python3"
  },
  "language_info": {
   "codemirror_mode": {
    "name": "ipython",
    "version": 3
   },
   "file_extension": ".py",
   "mimetype": "text/x-python",
   "name": "python",
   "nbconvert_exporter": "python",
   "pygments_lexer": "ipython3",
   "version": "3.6.4"
  }
 },
 "nbformat": 4,
 "nbformat_minor": 2
}
